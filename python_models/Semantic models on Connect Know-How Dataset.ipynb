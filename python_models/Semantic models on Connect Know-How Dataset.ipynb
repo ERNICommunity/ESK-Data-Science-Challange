{
 "cells": [
  {
   "cell_type": "code",
   "execution_count": 1,
   "metadata": {
    "collapsed": true
   },
   "outputs": [],
   "source": [
    "import logging\n",
    "logging.basicConfig(format='%(asctime)s : %(levelname)s : %(message)s', level=logging.ERROR)"
   ]
  },
  {
   "cell_type": "code",
   "execution_count": 2,
   "metadata": {
    "collapsed": true
   },
   "outputs": [],
   "source": [
    "from pandas import DataFrame, Series\n",
    "import pandas as pd\n",
    "import numpy as np\n",
    "import os as os"
   ]
  },
  {
   "cell_type": "code",
   "execution_count": 3,
   "metadata": {
    "collapsed": true
   },
   "outputs": [],
   "source": [
    "DIM = 256"
   ]
  },
  {
   "cell_type": "code",
   "execution_count": 4,
   "metadata": {
    "collapsed": false
   },
   "outputs": [
    {
     "name": "stdout",
     "output_type": "stream",
     "text": [
      "(32395, 5)\n",
      "Index(['PersonId', 'KnowHowId', 'KnowHow', 'Category', 'Subcategory'], dtype='object')\n"
     ]
    }
   ],
   "source": [
    "kh = pd.read_csv(\"../Input/know-how.csv\", encoding=\"latin1\")\n",
    "kh.drop('Unnamed: 5', axis=1, inplace=True)\n",
    "print(kh.shape)\n",
    "print(kh.columns)"
   ]
  },
  {
   "cell_type": "code",
   "execution_count": 5,
   "metadata": {
    "collapsed": false
   },
   "outputs": [],
   "source": [
    "k1 = kh[kh.Category == 'Technologies'].groupby('KnowHowId').count()\n",
    "ranked = k1.sort_values('PersonId', ascending=False).head(DIM).index"
   ]
  },
  {
   "cell_type": "code",
   "execution_count": 6,
   "metadata": {
    "collapsed": false
   },
   "outputs": [
    {
     "data": {
      "text/html": [
       "<div>\n",
       "<table border=\"1\" class=\"dataframe\">\n",
       "  <thead>\n",
       "    <tr style=\"text-align: right;\">\n",
       "      <th></th>\n",
       "      <th>KnowHowId</th>\n",
       "      <th>KnowHow</th>\n",
       "    </tr>\n",
       "  </thead>\n",
       "  <tbody>\n",
       "    <tr>\n",
       "      <th>8</th>\n",
       "      <td>2882</td>\n",
       "      <td>Confluence</td>\n",
       "    </tr>\n",
       "    <tr>\n",
       "      <th>9</th>\n",
       "      <td>3072</td>\n",
       "      <td>Visual Basic for Applications (VBA)</td>\n",
       "    </tr>\n",
       "    <tr>\n",
       "      <th>10</th>\n",
       "      <td>3107</td>\n",
       "      <td>MS Windows</td>\n",
       "    </tr>\n",
       "    <tr>\n",
       "      <th>11</th>\n",
       "      <td>3201</td>\n",
       "      <td>Windows Server</td>\n",
       "    </tr>\n",
       "    <tr>\n",
       "      <th>12</th>\n",
       "      <td>3252</td>\n",
       "      <td>HTML</td>\n",
       "    </tr>\n",
       "  </tbody>\n",
       "</table>\n",
       "</div>"
      ],
      "text/plain": [
       "    KnowHowId                              KnowHow\n",
       "8        2882                           Confluence\n",
       "9        3072  Visual Basic for Applications (VBA)\n",
       "10       3107                           MS Windows\n",
       "11       3201                       Windows Server\n",
       "12       3252                                 HTML"
      ]
     },
     "execution_count": 6,
     "metadata": {},
     "output_type": "execute_result"
    }
   ],
   "source": [
    "technologies = kh[kh.Category == 'Technologies'][['KnowHowId', 'KnowHow']].copy()\n",
    "technologies = technologies.drop_duplicates(subset=['KnowHowId'])\n",
    "technologies = technologies[technologies['KnowHowId'].isin(ranked)]\n",
    "technologies.set_index('KnowHowId')\n",
    "technologies.head()"
   ]
  },
  {
   "cell_type": "code",
   "execution_count": 7,
   "metadata": {
    "collapsed": false
   },
   "outputs": [],
   "source": [
    "kh_tech = kh[kh.KnowHowId.isin(technologies.KnowHowId)].drop('Category',1).copy()"
   ]
  },
  {
   "cell_type": "code",
   "execution_count": 8,
   "metadata": {
    "collapsed": false
   },
   "outputs": [
    {
     "data": {
      "text/html": [
       "<div>\n",
       "<table border=\"1\" class=\"dataframe\">\n",
       "  <thead>\n",
       "    <tr style=\"text-align: right;\">\n",
       "      <th></th>\n",
       "      <th>KnowHow</th>\n",
       "    </tr>\n",
       "    <tr>\n",
       "      <th>PersonId</th>\n",
       "      <th></th>\n",
       "    </tr>\n",
       "  </thead>\n",
       "  <tbody>\n",
       "    <tr>\n",
       "      <th>1</th>\n",
       "      <td>[MySQL, MS Office, Active Directory, Lotus Not...</td>\n",
       "    </tr>\n",
       "    <tr>\n",
       "      <th>3</th>\n",
       "      <td>[MS-DOS, TCP/IP, MySQL, HTTP, Assembler, Windo...</td>\n",
       "    </tr>\n",
       "    <tr>\n",
       "      <th>5</th>\n",
       "      <td>[Java, HP ALM, MS Outlook, Pascal, Visual Basi...</td>\n",
       "    </tr>\n",
       "    <tr>\n",
       "      <th>7</th>\n",
       "      <td>[IBM Rational RequisitePro, Unix, MySQL, Perl,...</td>\n",
       "    </tr>\n",
       "    <tr>\n",
       "      <th>8</th>\n",
       "      <td>[Windows NT, HP ALM, HP Quality Center, Window...</td>\n",
       "    </tr>\n",
       "  </tbody>\n",
       "</table>\n",
       "</div>"
      ],
      "text/plain": [
       "                                                    KnowHow\n",
       "PersonId                                                   \n",
       "1         [MySQL, MS Office, Active Directory, Lotus Not...\n",
       "3         [MS-DOS, TCP/IP, MySQL, HTTP, Assembler, Windo...\n",
       "5         [Java, HP ALM, MS Outlook, Pascal, Visual Basi...\n",
       "7         [IBM Rational RequisitePro, Unix, MySQL, Perl,...\n",
       "8         [Windows NT, HP ALM, HP Quality Center, Window..."
      ]
     },
     "execution_count": 8,
     "metadata": {},
     "output_type": "execute_result"
    }
   ],
   "source": [
    "sentences = DataFrame(kh_tech.groupby('PersonId').apply(lambda x: list(set(x.KnowHow))), columns=['KnowHow'])\n",
    "sentences.head()"
   ]
  },
  {
   "cell_type": "code",
   "execution_count": 9,
   "metadata": {
    "collapsed": false
   },
   "outputs": [
    {
     "name": "stderr",
     "output_type": "stream",
     "text": [
      "d:\\Anaconda3\\lib\\site-packages\\gensim\\utils.py:840: UserWarning: detected Windows; aliasing chunkize to chunkize_serial\n",
      "  warnings.warn(\"detected Windows; aliasing chunkize to chunkize_serial\")\n",
      "d:\\Anaconda3\\lib\\site-packages\\gensim\\utils.py:1015: UserWarning: Pattern library is not installed, lemmatization won't be available.\n",
      "  warnings.warn(\"Pattern library is not installed, lemmatization won't be available.\")\n"
     ]
    }
   ],
   "source": [
    "from gensim import corpora, models, similarities"
   ]
  },
  {
   "cell_type": "code",
   "execution_count": 10,
   "metadata": {
    "collapsed": false
   },
   "outputs": [
    {
     "name": "stdout",
     "output_type": "stream",
     "text": [
      "Dictionary(255 unique tokens: ['TeamCity', 'MS SQL Server', 'CSS3', 'MFC', 'MS SQL Server 2008']...)\n"
     ]
    }
   ],
   "source": [
    "dictionary = corpora.Dictionary(sentences['KnowHow'])\n",
    "print(dictionary)"
   ]
  },
  {
   "cell_type": "code",
   "execution_count": 11,
   "metadata": {
    "collapsed": false
   },
   "outputs": [],
   "source": [
    "bow_corpus = [dictionary.doc2bow(text) for text in sentences['KnowHow']]"
   ]
  },
  {
   "cell_type": "code",
   "execution_count": 12,
   "metadata": {
    "collapsed": false
   },
   "outputs": [],
   "source": [
    "tfidf = models.TfidfModel(bow_corpus)\n",
    "corpus_tfidf = tfidf[bow_corpus]"
   ]
  },
  {
   "cell_type": "code",
   "execution_count": 13,
   "metadata": {
    "collapsed": false
   },
   "outputs": [],
   "source": [
    "lsi = models.LsiModel(bow_corpus, id2word=dictionary, num_topics=6)\n",
    "corpus_lsi = lsi[bow_corpus]"
   ]
  },
  {
   "cell_type": "code",
   "execution_count": 14,
   "metadata": {
    "collapsed": false
   },
   "outputs": [
    {
     "name": "stdout",
     "output_type": "stream",
     "text": [
      "ready\n",
      "lda model loaded\n"
     ]
    }
   ],
   "source": [
    "print('ready')\n",
    "file1 = \"know_how_128.lda\"\n",
    "\n",
    "if (os.path.exists(file1)):\n",
    "    lda = models.LdaModel.load(file1)\n",
    "    print(\"lda model loaded\")\n",
    "else:\n",
    "    print (\"looong calculation begins\")\n",
    "    lda = models.LdaModel(bow_corpus, id2word=dictionary, num_topics=6, passes=100)\n",
    "    lda.save(file1)\n",
    "    print(\"lda model saved\")\n",
    "    \n",
    "corpus_lda = lda[bow_corpus]"
   ]
  },
  {
   "cell_type": "code",
   "execution_count": 15,
   "metadata": {
    "collapsed": false
   },
   "outputs": [
    {
     "data": {
      "text/plain": [
       "[(0,\n",
       "  '0.029*\"Eclipse\" + 0.027*\"Java\" + 0.027*\"JUnit\" + 0.025*\"Hibernate\" + 0.023*\"Maven\" + 0.022*\"XML\" + 0.021*\"Spring\" + 0.021*\"MySQL\" + 0.021*\"Apache Tomcat\" + 0.020*\"JavaScript\"'),\n",
       " (1,\n",
       "  '0.055*\"Java\" + 0.055*\"JavaScript\" + 0.050*\"MySQL\" + 0.043*\"PHP\" + 0.039*\"HTML\" + 0.038*\"CSS\" + 0.037*\"C#\" + 0.028*\"Eclipse\" + 0.027*\"Git\" + 0.026*\"MS Windows\"'),\n",
       " (2,\n",
       "  '0.064*\"Windows XP\" + 0.059*\"Windows 7\" + 0.051*\"C++\" + 0.047*\"C\" + 0.037*\"Windows 2000\" + 0.037*\"Windows Vista\" + 0.030*\"TCP/IP\" + 0.029*\"C#\" + 0.028*\"Subversion (SVN)\" + 0.026*\"Visual Studio\"'),\n",
       " (3,\n",
       "  '0.042*\"MS Office\" + 0.040*\"MS Windows\" + 0.036*\"MS Project\" + 0.034*\"SQL\" + 0.033*\"HP Quality Center\" + 0.033*\"Java\" + 0.032*\"Atlassian JIRA\" + 0.030*\"MS Access\" + 0.029*\"XML\" + 0.029*\"MS Visio\"'),\n",
       " (4,\n",
       "  '0.046*\"C#\" + 0.035*\"WPF\" + 0.032*\"WCF\" + 0.030*\"Microsoft Team Foundation Server (TFS)\" + 0.029*\"MS SQL Server\" + 0.028*\"ASP.NET\" + 0.024*\".NET\" + 0.023*\"JavaScript\" + 0.021*\"MS Visual Studio 2010\" + 0.021*\"Visual Studio\"'),\n",
       " (5,\n",
       "  '0.043*\"Atlassian JIRA\" + 0.042*\"MS Office\" + 0.041*\"HTTP\" + 0.035*\"MS Visio\" + 0.035*\"MS Excel\" + 0.035*\"Windows 7\" + 0.032*\"MS SharePoint\" + 0.031*\"MS Word\" + 0.030*\"HTTPS\" + 0.029*\"Windows XP\"')]"
      ]
     },
     "execution_count": 15,
     "metadata": {},
     "output_type": "execute_result"
    }
   ],
   "source": [
    "lda.print_topics()"
   ]
  },
  {
   "cell_type": "code",
   "execution_count": 16,
   "metadata": {
    "collapsed": false
   },
   "outputs": [
    {
     "name": "stdout",
     "output_type": "stream",
     "text": [
      "ready\n",
      "lda model loaded\n"
     ]
    }
   ],
   "source": [
    "print('ready')\n",
    "file2 = \"know_how_128_tfidf.lda\"\n",
    "\n",
    "if (os.path.exists(file2)):\n",
    "    lda_tfidf = models.LdaModel.load(file2)\n",
    "    print(\"lda model loaded\")\n",
    "else:\n",
    "    print (\"looong calculation begins\")\n",
    "    lda_tfidf = models.LdaModel(corpus_tfidf, id2word=dictionary, num_topics=6, passes=100)\n",
    "    lda_tfidf.save(file2)\n",
    "    print(\"lda model saved\")\n",
    "    \n",
    "corpus_lda_tfidf = lda_tfidf[corpus_tfidf]"
   ]
  },
  {
   "cell_type": "code",
   "execution_count": 17,
   "metadata": {
    "collapsed": false
   },
   "outputs": [
    {
     "data": {
      "text/plain": [
       "[(0,\n",
       "  '0.022*\"Windows XP\" + 0.021*\"C++\" + 0.020*\"C\" + 0.020*\"Windows 7\" + 0.017*\"Windows 2000\" + 0.016*\"TCP/IP\" + 0.015*\"Windows Vista\" + 0.014*\"MS Access\" + 0.014*\"Sparx Enterprise Architect\" + 0.014*\"Linux\"'),\n",
       " (1,\n",
       "  '0.028*\"WPF\" + 0.025*\"WCF\" + 0.025*\"ASP.NET\" + 0.020*\"Microsoft Team Foundation Server (TFS)\" + 0.019*\"MS SQL Server\" + 0.018*\"ASP.NET MVC\" + 0.018*\"Entity Framework\" + 0.018*\"C#\" + 0.018*\".NET\" + 0.018*\"LINQ\"'),\n",
       " (2,\n",
       "  '0.099*\"Internet\" + 0.066*\"Silverlight 4.0\" + 0.058*\"MongoDB\" + 0.052*\"C#/.NET\" + 0.050*\".NET Framework 3.5\" + 0.029*\"ASP.NET MVC\" + 0.019*\"Scripting languages (HTML, JavaScript, XML etc.)\" + 0.017*\"SOA\" + 0.014*\"AngularJS\" + 0.010*\"CSS3\"'),\n",
       " (3,\n",
       "  '0.050*\"MS Office\" + 0.049*\"MS Excel\" + 0.042*\"MS Word\" + 0.038*\"MS SharePoint\" + 0.035*\"MS PowerPoint\" + 0.034*\"Lotus Notes\" + 0.034*\"MS Outlook\" + 0.032*\"SpiraTest\" + 0.029*\"MS Project\" + 0.026*\"Adobe Photoshop\"'),\n",
       " (4,\n",
       "  '0.018*\"Hibernate\" + 0.017*\"Git\" + 0.016*\"Maven\" + 0.016*\"Spring\" + 0.015*\"JUnit\" + 0.015*\"Java EE\" + 0.015*\"Eclipse\" + 0.014*\"jQuery\" + 0.014*\"JSF\" + 0.014*\"JavaScript\"'),\n",
       " (5,\n",
       "  '0.035*\"HP ALM\" + 0.034*\"Atlassian JIRA\" + 0.031*\"Balsamiq Mockups\" + 0.030*\"Atlassian Confluence\" + 0.030*\"MS Visio\" + 0.030*\"MS Project\" + 0.026*\"MS Office\" + 0.026*\"PHP\" + 0.020*\"DNS\" + 0.020*\"Visual Basic for Applications (VBA)\"')]"
      ]
     },
     "execution_count": 17,
     "metadata": {},
     "output_type": "execute_result"
    }
   ],
   "source": [
    "lda_tfidf.print_topics()"
   ]
  },
  {
   "cell_type": "code",
   "execution_count": 18,
   "metadata": {
    "collapsed": false
   },
   "outputs": [
    {
     "name": "stdout",
     "output_type": "stream",
     "text": [
      "ready\n",
      "Hdp model loaded\n"
     ]
    }
   ],
   "source": [
    "print('ready')\n",
    "file3 = \"know_how_128_hdp.lda\"\n",
    "\n",
    "if (os.path.exists(file3)):\n",
    "    hdp = models.HdpModel.load(file3)\n",
    "    print(\"Hdp model loaded\")\n",
    "else:\n",
    "    print (\"looong calculation begins\")\n",
    "    hdp = models.HdpModel(bow_corpus, id2word=dictionary)\n",
    "    hdp.save(file3)\n",
    "    print(\"Hdp model saved\")"
   ]
  },
  {
   "cell_type": "code",
   "execution_count": 19,
   "metadata": {
    "collapsed": false
   },
   "outputs": [
    {
     "data": {
      "text/plain": [
       "[(0,\n",
       "  '0.028*XSD + 0.022*Windows Server + 0.018*Silverlight + 0.018*XMLSpy + 0.016*Swing + 0.016*Sparx Enterprise Architect + 0.015*Linux + 0.014*SQL + 0.013*Enterprise Architect + 0.013*jQuery'),\n",
       " (1,\n",
       "  '0.021*POP3 + 0.018*RESTful Web Services + 0.017*Oracle 11g + 0.014*Visual Basic for Applications (VBA) + 0.014*Windows 2000 + 0.014*JDBC + 0.014*Groovy + 0.013*Visual Studio + 0.013*MVVM pattern + 0.012*GWT'),\n",
       " (2,\n",
       "  '0.022*LaTeX + 0.017*iOS + 0.015*HP Quality Center + 0.014*CSS + 0.014*Struts + 0.014*JBoss Application Server + 0.014*HTML5 + 0.013*Crystal Reports + 0.013*CVS + 0.012*SSH'),\n",
       " (3,\n",
       "  '0.021*Entity Framework + 0.019*XSLT + 0.017*Silverlight 4.0 + 0.017*HTTP + 0.016*MS Windows + 0.016*RESTful Web Services + 0.015*Wiki + 0.014*Java EE + 0.013*JBoss Application Server + 0.012*MS Office '),\n",
       " (4,\n",
       "  '0.017*MS SQL Server 2000 + 0.016*Qt + 0.015*AJAX + 0.015*PHP Version 4 + 0.013*Assembler + 0.013*MongoDB + 0.012*Eclipse + 0.011*C# + 0.011*Struts + 0.011*JBoss Application Server'),\n",
       " (5,\n",
       "  '0.025*Atlassian JIRA + 0.023*ASP.NET MVC + 0.021*MS Visual Studio 2010 + 0.020*Oracle 11g + 0.018*ASP.NET AJAX + 0.016*JSP + 0.015*Perforce + 0.015*CSS3 + 0.015*JMeter + 0.013*Struts')]"
      ]
     },
     "execution_count": 19,
     "metadata": {},
     "output_type": "execute_result"
    }
   ],
   "source": [
    "hdp.print_topics(6)"
   ]
  },
  {
   "cell_type": "code",
   "execution_count": 20,
   "metadata": {
    "collapsed": false
   },
   "outputs": [
    {
     "name": "stdout",
     "output_type": "stream",
     "text": [
      "ready\n",
      "word2vec model loaded\n"
     ]
    }
   ],
   "source": [
    "print('ready')\n",
    "file4 = \"know_how_128.word2vec\"\n",
    "\n",
    "if (os.path.exists(file4)):\n",
    "    wv = models.Word2Vec.load(file4)\n",
    "    print(\"word2vec model loaded\")\n",
    "else:\n",
    "    print (\"looong calculation begins\")\n",
    "    wv = models.Word2Vec(sentences['KnowHow'], iter=2000)\n",
    "    wv.save(file4)\n",
    "    print(\"word2vec model saved\")"
   ]
  },
  {
   "cell_type": "code",
   "execution_count": 21,
   "metadata": {
    "collapsed": false
   },
   "outputs": [
    {
     "data": {
      "text/plain": [
       "[('XML', 0.5272793173789978),\n",
       " ('Perl', 0.43977513909339905),\n",
       " ('Confluence', 0.419683039188385),\n",
       " ('MS Project', 0.39706218242645264)]"
      ]
     },
     "execution_count": 21,
     "metadata": {},
     "output_type": "execute_result"
    }
   ],
   "source": [
    "wv.most_similar(positive=['Java'], negative=['C#'], topn=4)"
   ]
  },
  {
   "cell_type": "code",
   "execution_count": 22,
   "metadata": {
    "collapsed": false
   },
   "outputs": [
    {
     "data": {
      "text/plain": [
       "[('C++', 0.4358682632446289),\n",
       " ('Windows 2000', 0.40301600098609924),\n",
       " ('Eclipse', 0.4011368155479431),\n",
       " ('WCF', 0.3830938935279846)]"
      ]
     },
     "execution_count": 22,
     "metadata": {},
     "output_type": "execute_result"
    }
   ],
   "source": [
    "wv.most_similar(positive=['C#'], negative=['Java'], topn=4)"
   ]
  }
 ],
 "metadata": {
  "anaconda-cloud": {},
  "kernelspec": {
   "display_name": "Python [default]",
   "language": "python",
   "name": "python3"
  },
  "language_info": {
   "codemirror_mode": {
    "name": "ipython",
    "version": 3
   },
   "file_extension": ".py",
   "mimetype": "text/x-python",
   "name": "python",
   "nbconvert_exporter": "python",
   "pygments_lexer": "ipython3",
   "version": "3.5.2"
  }
 },
 "nbformat": 4,
 "nbformat_minor": 2
}
